{
 "cells": [
  {
   "cell_type": "code",
   "execution_count": 10,
   "metadata": {},
   "outputs": [
    {
     "name": "stdout",
     "output_type": "stream",
     "text": [
      "Fetching package metadata ...............\n",
      "Solving package specifications: .\n",
      "\n",
      "Package plan for installation in environment C:\\Users\\erikcase\\Anaconda3:\n",
      "\n",
      "The following packages will be UPDATED:\n",
      "\n",
      "    conda:     4.3.30-py36h7e176b0_0 --> 4.5.0-py36_0        \n",
      "    conda-env: 2.6.0-0               --> 2.6.0-h36134e3_1    \n",
      "    pycosat:   0.6.2-py36_0          --> 0.6.3-py36h413d8a4_0\n",
      "\n",
      "conda-env-2.6.   0% |                              | ETA:  --:--:--   0.00  B/s\n",
      "conda-env-2.6. 100% |###############################| ETA:  0:00:00   2.69 MB/s\n",
      "conda-env-2.6. 100% |###############################| Time: 0:00:00   2.69 MB/s\n",
      "\n",
      "pycosat-0.6.3-   0% |                              | ETA:  --:--:--   0.00  B/s\n",
      "pycosat-0.6.3-  15% |####                           | Time: 0:00:00   1.36 MB/s\n",
      "pycosat-0.6.3-  31% |#########                      | Time: 0:00:00   1.80 MB/s\n",
      "pycosat-0.6.3-  47% |##############                 | Time: 0:00:00   2.16 MB/s\n",
      "pycosat-0.6.3-  62% |###################            | Time: 0:00:00   2.20 MB/s\n",
      "pycosat-0.6.3-  78% |########################       | Time: 0:00:00   2.16 MB/s\n",
      "pycosat-0.6.3-  94% |#############################  | Time: 0:00:00   2.29 MB/s\n",
      "pycosat-0.6.3- 100% |###############################| Time: 0:00:00   2.43 MB/s\n",
      "pycosat-0.6.3- 100% |###############################| Time: 0:00:00   2.38 MB/s\n",
      "\n",
      "conda-4.5.0-py   0% |                              | ETA:  --:--:--   0.00  B/s\n",
      "conda-4.5.0-py   1% |                               | Time: 0:00:00   5.45 MB/s\n",
      "conda-4.5.0-py   3% |                               | Time: 0:00:00   6.54 MB/s\n",
      "conda-4.5.0-py   4% |#                              | Time: 0:00:00   6.98 MB/s\n",
      "conda-4.5.0-py   6% |#                              | Time: 0:00:00   3.84 MB/s\n",
      "conda-4.5.0-py   7% |##                             | Time: 0:00:00   4.09 MB/s\n",
      "conda-4.5.0-py   9% |##                             | Time: 0:00:00   4.46 MB/s\n",
      "conda-4.5.0-py  10% |###                            | Time: 0:00:00   4.57 MB/s\n",
      "conda-4.5.0-py  12% |###                            | Time: 0:00:00   4.67 MB/s\n",
      "conda-4.5.0-py  13% |####                           | Time: 0:00:00   4.60 MB/s\n",
      "conda-4.5.0-py  15% |####                           | Time: 0:00:00   4.81 MB/s\n",
      "conda-4.5.0-py  16% |#####                          | Time: 0:00:00   4.73 MB/s\n",
      "conda-4.5.0-py  18% |#####                          | Time: 0:00:00   4.90 MB/s\n",
      "conda-4.5.0-py  19% |######                         | Time: 0:00:00   5.01 MB/s\n",
      "conda-4.5.0-py  21% |######                         | Time: 0:00:00   4.58 MB/s\n",
      "conda-4.5.0-py  22% |#######                        | Time: 0:00:00   4.81 MB/s\n",
      "conda-4.5.0-py  24% |#######                        | Time: 0:00:00   4.85 MB/s\n",
      "conda-4.5.0-py  25% |#######                        | Time: 0:00:00   4.88 MB/s\n",
      "conda-4.5.0-py  27% |########                       | Time: 0:00:00   4.99 MB/s\n",
      "conda-4.5.0-py  28% |########                       | Time: 0:00:00   5.09 MB/s\n",
      "conda-4.5.0-py  30% |#########                      | Time: 0:00:00   5.11 MB/s\n",
      "conda-4.5.0-py  31% |#########                      | Time: 0:00:00   5.05 MB/s\n",
      "conda-4.5.0-py  33% |##########                     | Time: 0:00:00   5.07 MB/s\n",
      "conda-4.5.0-py  34% |##########                     | Time: 0:00:00   5.08 MB/s\n",
      "conda-4.5.0-py  36% |###########                    | Time: 0:00:00   5.23 MB/s\n",
      "conda-4.5.0-py  37% |###########                    | Time: 0:00:00   5.18 MB/s\n",
      "conda-4.5.0-py  39% |############                   | Time: 0:00:00   5.32 MB/s\n",
      "conda-4.5.0-py  40% |############                   | Time: 0:00:00   5.39 MB/s\n",
      "conda-4.5.0-py  42% |#############                  | Time: 0:00:00   5.32 MB/s\n",
      "conda-4.5.0-py  43% |#############                  | Time: 0:00:00   5.45 MB/s\n",
      "conda-4.5.0-py  45% |##############                 | Time: 0:00:00   5.27 MB/s\n",
      "conda-4.5.0-py  46% |##############                 | Time: 0:00:00   5.39 MB/s\n",
      "conda-4.5.0-py  48% |##############                 | Time: 0:00:00   5.39 MB/s\n",
      "conda-4.5.0-py  49% |###############                | Time: 0:00:00   5.45 MB/s\n",
      "conda-4.5.0-py  51% |###############                | Time: 0:00:00   5.50 MB/s\n",
      "conda-4.5.0-py  52% |################               | Time: 0:00:00   5.61 MB/s\n",
      "conda-4.5.0-py  54% |################               | Time: 0:00:00   5.61 MB/s\n",
      "conda-4.5.0-py  55% |#################              | Time: 0:00:00   5.71 MB/s\n",
      "conda-4.5.0-py  57% |#################              | Time: 0:00:00   5.60 MB/s\n",
      "conda-4.5.0-py  58% |##################             | Time: 0:00:00   5.64 MB/s\n",
      "conda-4.5.0-py  60% |##################             | Time: 0:00:00   5.74 MB/s\n",
      "conda-4.5.0-py  61% |###################            | Time: 0:00:00   5.58 MB/s\n",
      "conda-4.5.0-py  63% |###################            | Time: 0:00:00   5.68 MB/s\n",
      "conda-4.5.0-py  64% |####################           | Time: 0:00:00   5.71 MB/s\n",
      "conda-4.5.0-py  66% |####################           | Time: 0:00:00   5.75 MB/s\n",
      "conda-4.5.0-py  67% |#####################          | Time: 0:00:00   5.81 MB/s\n",
      "conda-4.5.0-py  69% |#####################          | Time: 0:00:00   5.88 MB/s\n",
      "conda-4.5.0-py  70% |#####################          | Time: 0:00:00   5.92 MB/s\n",
      "conda-4.5.0-py  72% |######################         | Time: 0:00:00   5.84 MB/s\n",
      "conda-4.5.0-py  73% |######################         | Time: 0:00:00   5.87 MB/s\n",
      "conda-4.5.0-py  75% |#######################        | Time: 0:00:00   5.71 MB/s\n",
      "conda-4.5.0-py  76% |#######################        | Time: 0:00:00   5.77 MB/s\n",
      "conda-4.5.0-py  78% |########################       | Time: 0:00:00   5.77 MB/s\n",
      "conda-4.5.0-py  79% |########################       | Time: 0:00:00   5.72 MB/s\n",
      "conda-4.5.0-py  81% |#########################      | Time: 0:00:00   5.79 MB/s\n",
      "conda-4.5.0-py  82% |#########################      | Time: 0:00:00   5.90 MB/s\n",
      "conda-4.5.0-py  84% |##########################     | Time: 0:00:00   5.97 MB/s\n",
      "conda-4.5.0-py  85% |##########################     | Time: 0:00:00   6.00 MB/s\n",
      "conda-4.5.0-py  87% |###########################    | Time: 0:00:00   5.86 MB/s\n",
      "conda-4.5.0-py  88% |###########################    | Time: 0:00:00   5.96 MB/s\n",
      "conda-4.5.0-py  90% |############################   | Time: 0:00:00   5.81 MB/s\n",
      "conda-4.5.0-py  91% |############################   | Time: 0:00:00   5.90 MB/s\n",
      "conda-4.5.0-py  93% |############################   | Time: 0:00:00   5.93 MB/s\n",
      "conda-4.5.0-py  94% |#############################  | Time: 0:00:00   5.96 MB/s\n",
      "conda-4.5.0-py  96% |#############################  | Time: 0:00:00   6.02 MB/s\n",
      "conda-4.5.0-py  97% |############################## | Time: 0:00:00   6.05 MB/s\n",
      "conda-4.5.0-py  99% |############################## | Time: 0:00:00   6.11 MB/s\n",
      "conda-4.5.0-py 100% |###############################| Time: 0:00:00   6.14 MB/s\n",
      "conda-4.5.0-py 100% |###############################| Time: 0:00:00   6.14 MB/s\n",
      "\n",
      "Solving environment: ...working... done\n",
      "\n",
      "## Package Plan ##\n",
      "\n",
      "  environment location: C:\\Users\\erikcase\\Anaconda3\n",
      "\n",
      "  added / updated specs: \n",
      "    - keras\n",
      "\n",
      "\n",
      "The following packages will be downloaded:\n",
      "\n",
      "    package                    |            build\n",
      "    ---------------------------|-----------------\n",
      "    keras-2.1.5                |           py36_0         490 KB\n",
      "    ca-certificates-2018.03.07 |                0         155 KB\n",
      "    openssl-1.0.2o             |       h8ea7d77_0         5.4 MB\n",
      "    ------------------------------------------------------------\n",
      "                                           Total:         6.0 MB\n",
      "\n",
      "The following NEW packages will be INSTALLED:\n",
      "\n",
      "    ca-certificates: 2018.03.07-0 \n",
      "    keras:           2.1.5-py36_0 \n",
      "\n",
      "The following packages will be UPDATED:\n",
      "\n",
      "    openssl:         1.0.2l-vc14_0 --> 1.0.2o-h8ea7d77_0\n",
      "\n",
      "\n",
      "Downloading and Extracting Packages\n",
      "Preparing transaction: ...working... done\n",
      "Verifying transaction: ...working... done\n",
      "Executing transaction: ...working... done\n"
     ]
    },
    {
     "name": "stderr",
     "output_type": "stream",
     "text": [
      "\n",
      "keras 2.1.5:            |   0% \n",
      "keras 2.1.5: #######5   |  75% \n",
      "keras 2.1.5: #########4 |  95% \n",
      "keras 2.1.5: ########## | 100% \n",
      "\n",
      "ca-certificates 2018.03.07:            |   0% \n",
      "ca-certificates 2018.03.07: ########## | 100% \n",
      "\n",
      "openssl 1.0.2o:            |   0% \n",
      "openssl 1.0.2o: ##6        |  27% \n",
      "openssl 1.0.2o: ######5    |  66% \n",
      "openssl 1.0.2o: ########2  |  83% \n",
      "openssl 1.0.2o: #########5 |  96% \n",
      "openssl 1.0.2o: ########## | 100% \n"
     ]
    }
   ],
   "source": [
    "import sys\n",
    "!conda install --yes --prefix {sys.prefix} tensorflow\n",
    "!conda install --yes --prefix {sys.prefix} keras"
   ]
  },
  {
   "cell_type": "code",
   "execution_count": 11,
   "metadata": {},
   "outputs": [
    {
     "name": "stderr",
     "output_type": "stream",
     "text": [
      "Using TensorFlow backend.\n"
     ]
    }
   ],
   "source": [
    "from keras.datasets import mnist\n",
    "import keras.utils.np_utils as ku\n",
    "import keras.models as models\n",
    "import keras.layers as layers\n",
    "from keras import regularizers\n",
    "import numpy as np\n",
    "import matplotlib.pyplot as plt\n",
    "%matplotlib inline"
   ]
  },
  {
   "cell_type": "code",
   "execution_count": 12,
   "metadata": {},
   "outputs": [
    {
     "name": "stdout",
     "output_type": "stream",
     "text": [
      "Downloading data from https://s3.amazonaws.com/img-datasets/mnist.npz\n",
      "11493376/11490434 [==============================] - 4s 0us/step\n"
     ]
    }
   ],
   "source": [
    "(train_images, train_labels), (test_images, test_labels) = mnist.load_data()"
   ]
  },
  {
   "cell_type": "code",
   "execution_count": 13,
   "metadata": {
    "collapsed": true
   },
   "outputs": [],
   "source": [
    "train_images = train_images.reshape((60000, 28*28)).astype('float32')/255\n",
    "test_images = test_images.reshape((10000, 28*28)).astype('float32')/255"
   ]
  },
  {
   "cell_type": "code",
   "execution_count": 14,
   "metadata": {
    "collapsed": true
   },
   "outputs": [],
   "source": [
    "train_labels = ku.to_categorical(train_labels)\n",
    "test_labels = ku.to_categorical(test_labels)"
   ]
  },
  {
   "cell_type": "code",
   "execution_count": 15,
   "metadata": {},
   "outputs": [
    {
     "name": "stdout",
     "output_type": "stream",
     "text": [
      "Train on 60000 samples, validate on 10000 samples\n",
      "Epoch 1/10\n",
      "60000/60000 [==============================] - 3s 58us/step - loss: 0.2560 - acc: 0.9259 - val_loss: 0.1274 - val_acc: 0.9621\n",
      "Epoch 2/10\n",
      "60000/60000 [==============================] - 3s 54us/step - loss: 0.1026 - acc: 0.9694 - val_loss: 0.0881 - val_acc: 0.9732\n",
      "Epoch 3/10\n",
      "60000/60000 [==============================] - 3s 58us/step - loss: 0.0675 - acc: 0.9802 - val_loss: 0.0731 - val_acc: 0.9770\n",
      "Epoch 4/10\n",
      "60000/60000 [==============================] - 4s 64us/step - loss: 0.0485 - acc: 0.9852 - val_loss: 0.0706 - val_acc: 0.9779\n",
      "Epoch 5/10\n",
      "60000/60000 [==============================] - 4s 60us/step - loss: 0.0367 - acc: 0.9890 - val_loss: 0.0656 - val_acc: 0.9799\n",
      "Epoch 6/10\n",
      "60000/60000 [==============================] - 4s 61us/step - loss: 0.0283 - acc: 0.9917 - val_loss: 0.0663 - val_acc: 0.9800\n",
      "Epoch 7/10\n",
      "60000/60000 [==============================] - 4s 59us/step - loss: 0.0215 - acc: 0.9937 - val_loss: 0.0608 - val_acc: 0.9822\n",
      "Epoch 8/10\n",
      "60000/60000 [==============================] - 3s 57us/step - loss: 0.0165 - acc: 0.9953 - val_loss: 0.0690 - val_acc: 0.9809\n",
      "Epoch 9/10\n",
      "60000/60000 [==============================] - 3s 56us/step - loss: 0.0132 - acc: 0.9963 - val_loss: 0.0751 - val_acc: 0.9801\n",
      "Epoch 10/10\n",
      "60000/60000 [==============================] - 3s 58us/step - loss: 0.0100 - acc: 0.9971 - val_loss: 0.0711 - val_acc: 0.9801\n"
     ]
    }
   ],
   "source": [
    "nnt = models.Sequential()\n",
    "nnt.add(layers.Dense(512, activation = 'relu', input_shape = (28*28, )))\n",
    "nnt.add(layers.Dense(10, activation = 'softmax'))\n",
    "nnt.compile(optimizer = 'rmsprop', loss = 'categorical_crossentropy', \n",
    "                metrics = ['accuracy'])\n",
    "    \n",
    "history = nnt.fit(train_images, train_labels, \n",
    "                  epochs = 10, batch_size = 128,\n",
    "                  validation_data = (test_images, test_labels))"
   ]
  },
  {
   "cell_type": "code",
   "execution_count": 16,
   "metadata": {},
   "outputs": [
    {
     "data": {
      "image/png": "[encoded data removed]",
      "text/plain": [
       "<matplotlib.figure.Figure at 0x1f9cb17ad30>"
      ]
     },
     "metadata": {},
     "output_type": "display_data"
    }
   ],
   "source": [
    "def plot_loss(history):\n",
    "    train_loss = history.history['loss']\n",
    "    test_loss = history.history['val_loss']\n",
    "    x = list(range(1, len(test_loss) + 1))\n",
    "    plt.plot(x, test_loss, color = 'red')\n",
    "    plt.plot(x, train_loss)\n",
    "    plt.xlabel('Epoch')\n",
    "    plt.ylabel('Loss')\n",
    "    plt.title('Loss vs. Epoch')\n",
    "    \n",
    "plot_loss(history)\n"
   ]
  },
  {
   "cell_type": "markdown",
   "metadata": {},
   "source": [
    "##1. A network with a single hidden layer of 1024 units. Compare these results to the single layer model with 512 units. \n"
   ]
  },
  {
   "cell_type": "code",
   "execution_count": 18,
   "metadata": {},
   "outputs": [
    {
     "name": "stdout",
     "output_type": "stream",
     "text": [
      "Train on 60000 samples, validate on 10000 samples\n",
      "Epoch 1/10\n",
      "60000/60000 [==============================] - 6s 106us/step - loss: 0.2328 - acc: 0.9308 - val_loss: 0.1037 - val_acc: 0.9684\n",
      "Epoch 2/10\n",
      "60000/60000 [==============================] - 6s 100us/step - loss: 0.0880 - acc: 0.9732 - val_loss: 0.0745 - val_acc: 0.9770\n",
      "Epoch 3/10\n",
      "60000/60000 [==============================] - 6s 102us/step - loss: 0.0567 - acc: 0.9828 - val_loss: 0.0695 - val_acc: 0.9797\n",
      "Epoch 4/10\n",
      "60000/60000 [==============================] - 6s 105us/step - loss: 0.0409 - acc: 0.9879 - val_loss: 0.0667 - val_acc: 0.9802\n",
      "Epoch 5/10\n",
      "60000/60000 [==============================] - 6s 101us/step - loss: 0.0292 - acc: 0.9906 - val_loss: 0.0744 - val_acc: 0.9796\n",
      "Epoch 6/10\n",
      "60000/60000 [==============================] - 6s 103us/step - loss: 0.0212 - acc: 0.9939 - val_loss: 0.0673 - val_acc: 0.9820\n",
      "Epoch 7/10\n",
      "60000/60000 [==============================] - 6s 107us/step - loss: 0.0159 - acc: 0.9953 - val_loss: 0.0731 - val_acc: 0.9815\n",
      "Epoch 8/10\n",
      "60000/60000 [==============================] - 6s 100us/step - loss: 0.0121 - acc: 0.9967 - val_loss: 0.0640 - val_acc: 0.9836\n",
      "Epoch 9/10\n",
      "60000/60000 [==============================] - 6s 103us/step - loss: 0.0101 - acc: 0.9970 - val_loss: 0.0707 - val_acc: 0.9832\n",
      "Epoch 10/10\n",
      "60000/60000 [==============================] - 6s 97us/step - loss: 0.0077 - acc: 0.9976 - val_loss: 0.0767 - val_acc: 0.9837\n"
     ]
    },
    {
     "data": {
      "image/png": "[encoded data removed]",
      "text/plain": [
       "<matplotlib.figure.Figure at 0x1f9cd3c4668>"
      ]
     },
     "metadata": {},
     "output_type": "display_data"
    }
   ],
   "source": [
    "nnt2 = models.Sequential()\n",
    "nnt2.add(layers.Dense(1024, activation = 'relu', input_shape = (28*28, )))\n",
    "nnt2.add(layers.Dense(10, activation = 'softmax'))\n",
    "nnt2.compile(optimizer = 'rmsprop', loss = 'categorical_crossentropy', \n",
    "                metrics = ['accuracy'])\n",
    "    \n",
    "history2 = nnt2.fit(train_images, train_labels, \n",
    "                  epochs = 10, batch_size = 128,\n",
    "                  validation_data = (test_images, test_labels))\n",
    "plot_loss(history2)"
   ]
  },
  {
   "cell_type": "markdown",
   "metadata": {},
   "source": [
    "ACtually gets worse accuracy  than the 512"
   ]
  },
  {
   "cell_type": "markdown",
   "metadata": {},
   "source": []
  },
  {
   "cell_type": "markdown",
   "metadata": {},
   "source": [
    "##2. A network with 2 hidden layers of 1024 units, using L2 kernel regularizaiton with parameter 0.01. Compare these results to the single hidden layer network with 1024 units. \n"
   ]
  },
  {
   "cell_type": "code",
   "execution_count": 19,
   "metadata": {},
   "outputs": [
    {
     "name": "stdout",
     "output_type": "stream",
     "text": [
      "Train on 60000 samples, validate on 10000 samples\n",
      "Epoch 1/10\n",
      "60000/60000 [==============================] - 18s 304us/step - loss: 0.9161 - acc: 0.9001 - val_loss: 0.3275 - val_acc: 0.9439\n",
      "Epoch 2/10\n",
      "60000/60000 [==============================] - 18s 297us/step - loss: 0.3106 - acc: 0.9433 - val_loss: 0.2431 - val_acc: 0.9586\n",
      "Epoch 3/10\n",
      "60000/60000 [==============================] - 18s 299us/step - loss: 0.2575 - acc: 0.9533 - val_loss: 0.2439 - val_acc: 0.9555\n",
      "Epoch 4/10\n",
      "60000/60000 [==============================] - 20s 327us/step - loss: 0.2256 - acc: 0.9588 - val_loss: 0.2428 - val_acc: 0.9480\n",
      "Epoch 5/10\n",
      "60000/60000 [==============================] - 18s 300us/step - loss: 0.2052 - acc: 0.9625 - val_loss: 0.1776 - val_acc: 0.9701\n",
      "Epoch 6/10\n",
      "60000/60000 [==============================] - 18s 297us/step - loss: 0.1917 - acc: 0.9646 - val_loss: 0.1847 - val_acc: 0.9692\n",
      "Epoch 7/10\n",
      "60000/60000 [==============================] - 18s 297us/step - loss: 0.1831 - acc: 0.9665 - val_loss: 0.1841 - val_acc: 0.9667\n",
      "Epoch 8/10\n",
      "60000/60000 [==============================] - 18s 294us/step - loss: 0.1749 - acc: 0.9682 - val_loss: 0.2008 - val_acc: 0.9584\n",
      "Epoch 9/10\n",
      "60000/60000 [==============================] - 18s 295us/step - loss: 0.1691 - acc: 0.9690 - val_loss: 0.2021 - val_acc: 0.9602\n",
      "Epoch 10/10\n",
      "60000/60000 [==============================] - 18s 297us/step - loss: 0.1664 - acc: 0.9699 - val_loss: 0.1774 - val_acc: 0.9666\n"
     ]
    },
    {
     "data": {
      "image/png": "[encoded data removed]",
      "text/plain": [
       "<matplotlib.figure.Figure at 0x1f9cba2d9e8>"
      ]
     },
     "metadata": {},
     "output_type": "display_data"
    }
   ],
   "source": [
    "nnt3 = models.Sequential()\n",
    "nnt3.add(layers.Dense(1024, activation = 'relu', input_shape = (28*28, ) , kernel_regularizer=regularizers.l2(0.01)))\n",
    "nnt3.add(layers.Dense(1024, activation = 'relu'))\n",
    "nnt3.add(layers.Dense(10, activation = 'softmax'))\n",
    "nnt3.compile(optimizer = 'rmsprop', loss = 'categorical_crossentropy', \n",
    "                metrics = ['accuracy'])\n",
    "    \n",
    "history3 = nnt3.fit(train_images, train_labels, \n",
    "                  epochs = 10, batch_size = 128,\n",
    "                  validation_data = (test_images, test_labels))\n",
    "plot_loss(history3)"
   ]
  },
  {
   "cell_type": "markdown",
   "metadata": {},
   "source": [
    "We start to see better accuracy with the 2 layer 1024 unit model"
   ]
  },
  {
   "cell_type": "markdown",
   "metadata": {},
   "source": [
    "### 3. A network with 2 hidden layers of 512 units, using L2 kernel regularizaiton with parameter 0.01. Compare the results to a) the single hidden layer network with 512 units and L2 regularization, and b) the 2 hidden layer network with 1024 units with L2 regularization. "
   ]
  },
  {
   "cell_type": "code",
   "execution_count": null,
   "metadata": {
    "collapsed": true
   },
   "outputs": [],
   "source": []
  },
  {
   "cell_type": "code",
   "execution_count": 21,
   "metadata": {},
   "outputs": [
    {
     "name": "stdout",
     "output_type": "stream",
     "text": [
      "Train on 60000 samples, validate on 10000 samples\n",
      "Epoch 1/10\n",
      "60000/60000 [==============================] - 12s 200us/step - loss: 1.3632 - acc: 0.8754 - val_loss: 0.5522 - val_acc: 0.9056\n",
      "Epoch 2/10\n",
      "60000/60000 [==============================] - 11s 189us/step - loss: 0.4612 - acc: 0.9248 - val_loss: 0.4289 - val_acc: 0.9213\n",
      "Epoch 3/10\n",
      "60000/60000 [==============================] - 11s 187us/step - loss: 0.3831 - acc: 0.9390 - val_loss: 0.3467 - val_acc: 0.9460\n",
      "Epoch 4/10\n",
      "60000/60000 [==============================] - 11s 187us/step - loss: 0.3437 - acc: 0.9451 - val_loss: 0.2926 - val_acc: 0.9580\n",
      "Epoch 5/10\n",
      "60000/60000 [==============================] - 11s 187us/step - loss: 0.3196 - acc: 0.9491 - val_loss: 0.3757 - val_acc: 0.9248\n",
      "Epoch 6/10\n",
      "60000/60000 [==============================] - 11s 187us/step - loss: 0.3061 - acc: 0.9507 - val_loss: 0.3067 - val_acc: 0.9467\n",
      "Epoch 7/10\n",
      "60000/60000 [==============================] - 11s 185us/step - loss: 0.2953 - acc: 0.9523 - val_loss: 0.2836 - val_acc: 0.9549\n",
      "Epoch 8/10\n",
      "60000/60000 [==============================] - 11s 187us/step - loss: 0.2886 - acc: 0.9535 - val_loss: 0.3318 - val_acc: 0.9388\n",
      "Epoch 9/10\n",
      "60000/60000 [==============================] - 11s 188us/step - loss: 0.2802 - acc: 0.9557 - val_loss: 0.2870 - val_acc: 0.9509\n",
      "Epoch 10/10\n",
      "60000/60000 [==============================] - 11s 189us/step - loss: 0.2748 - acc: 0.9551 - val_loss: 0.2644 - val_acc: 0.9578\n"
     ]
    },
    {
     "data": {
      "image/png": "[encoded data removed]",
      "text/plain": [
       "<matplotlib.figure.Figure at 0x1f9d3c4fac8>"
      ]
     },
     "metadata": {},
     "output_type": "display_data"
    }
   ],
   "source": [
    "nnt4 = models.Sequential()\n",
    "nnt4.add(layers.Dense(512, activation = 'relu', input_shape = (28*28, ) , kernel_regularizer=regularizers.l2(0.01)))\n",
    "nnt4.add(layers.Dense(1024, activation = 'relu', kernel_regularizer=regularizers.l2(0.01)))\n",
    "nnt4.add(layers.Dense(10, activation = 'softmax'))\n",
    "nnt4.compile(optimizer = 'rmsprop', loss = 'categorical_crossentropy', \n",
    "                metrics = ['accuracy'])\n",
    "    \n",
    "history4 = nnt4.fit(train_images, train_labels, \n",
    "                  epochs = 10, batch_size = 128,\n",
    "                  validation_data = (test_images, test_labels))\n",
    "plot_loss(history4)"
   ]
  },
  {
   "cell_type": "markdown",
   "metadata": {},
   "source": [
    "Big jump in accuracy compared to the other models "
   ]
  },
  {
   "cell_type": "markdown",
   "metadata": {},
   "source": [
    "### 4. A network with 4 hidden layer of 512 units, using L2 kernel regularizaiton with parameter 0.01. Compare the results to a) The two hidden layer network with 512 units per layer and L2 reegularization, and b) the 2 hiddent layer network with 1024 units per layer and L2 regularization.\n",
    "\n"
   ]
  },
  {
   "cell_type": "code",
   "execution_count": 22,
   "metadata": {},
   "outputs": [
    {
     "name": "stdout",
     "output_type": "stream",
     "text": [
      "Train on 60000 samples, validate on 10000 samples\n",
      "Epoch 1/10\n",
      "60000/60000 [==============================] - 12s 193us/step - loss: 0.2719 - acc: 0.9546 - val_loss: 0.2628 - val_acc: 0.9578\n",
      "Epoch 2/10\n",
      "60000/60000 [==============================] - 11s 190us/step - loss: 0.2677 - acc: 0.9561 - val_loss: 0.2485 - val_acc: 0.9603\n",
      "Epoch 3/10\n",
      "60000/60000 [==============================] - 11s 190us/step - loss: 0.2640 - acc: 0.9555 - val_loss: 0.2573 - val_acc: 0.9564\n",
      "Epoch 4/10\n",
      "60000/60000 [==============================] - 12s 199us/step - loss: 0.2609 - acc: 0.9557 - val_loss: 0.2483 - val_acc: 0.9594\n",
      "Epoch 5/10\n",
      "60000/60000 [==============================] - 12s 198us/step - loss: 0.2572 - acc: 0.9572 - val_loss: 0.2243 - val_acc: 0.9670\n",
      "Epoch 6/10\n",
      "60000/60000 [==============================] - 12s 198us/step - loss: 0.2556 - acc: 0.9573 - val_loss: 0.2260 - val_acc: 0.9638\n",
      "Epoch 7/10\n",
      "60000/60000 [==============================] - 13s 209us/step - loss: 0.2518 - acc: 0.9570 - val_loss: 0.2533 - val_acc: 0.9568\n",
      "Epoch 8/10\n",
      "60000/60000 [==============================] - 13s 213us/step - loss: 0.2532 - acc: 0.9567 - val_loss: 0.2383 - val_acc: 0.9611\n",
      "Epoch 9/10\n",
      "60000/60000 [==============================] - 12s 201us/step - loss: 0.2508 - acc: 0.9568 - val_loss: 0.2345 - val_acc: 0.9614\n",
      "Epoch 10/10\n",
      "60000/60000 [==============================] - 12s 203us/step - loss: 0.2480 - acc: 0.9570 - val_loss: 0.2606 - val_acc: 0.9524\n"
     ]
    },
    {
     "data": {
      "image/png": "[encoded data removed]",
      "text/plain": [
       "<matplotlib.figure.Figure at 0x1f9d55d6588>"
      ]
     },
     "metadata": {},
     "output_type": "display_data"
    }
   ],
   "source": [
    "nnt5 = models.Sequential()\n",
    "nnt5.add(layers.Dense(512, activation = 'relu', input_shape = (28*28, ) , kernel_regularizer=regularizers.l2(0.01)))\n",
    "nnt5.add(layers.Dense(512, activation = 'relu', kernel_regularizer=regularizers.l2(0.01)))\n",
    "nnt5.add(layers.Dense(512, activation = 'relu', kernel_regularizer=regularizers.l2(0.01)))\n",
    "nnt5.add(layers.Dense(512, activation = 'relu', kernel_regularizer=regularizers.l2(0.01)))\n",
    "nnt5.add(layers.Dense(10, activation = 'softmax'))\n",
    "nnt5.compile(optimizer = 'rmsprop', loss = 'categorical_crossentropy', \n",
    "                metrics = ['accuracy'])\n",
    "    \n",
    "history5 = nnt4.fit(train_images, train_labels, \n",
    "                  epochs = 10, batch_size = 128,\n",
    "                  validation_data = (test_images, test_labels))\n",
    "plot_loss(history5)"
   ]
  },
  {
   "cell_type": "markdown",
   "metadata": {},
   "source": [
    "Interestingly, with the added layers and lower number of units, the validation acciracy bounces around wildly across the epochs. The acvcuracy is not as good either"
   ]
  },
  {
   "cell_type": "markdown",
   "metadata": {},
   "source": [
    "### 1. How do the number of training epochs before over-fitting compare?\n",
    "### 2. How does the best loss function compare? \n",
    "### 3. How does the best accuracy metric compare?"
   ]
  },
  {
   "cell_type": "markdown",
   "metadata": {},
   "source": [
    "Except for the final model, it generally seems to indiocate we need 3 or 4 epochs at the most.\n",
    "Accuracy for the 2 layer 1024*512 model seems to have the best accuracy\n",
    "Same"
   ]
  }
 ],
 "metadata": {
  "kernelspec": {
   "display_name": "Python 3",
   "language": "python",
   "name": "python3"
  },
  "language_info": {
   "codemirror_mode": {
    "name": "ipython",
    "version": 3
   },
   "file_extension": ".py",
   "mimetype": "text/x-python",
   "name": "python",
   "nbconvert_exporter": "python",
   "pygments_lexer": "ipython3",
   "version": "3.6.1"
  }
 },
 "nbformat": 4,
 "nbformat_minor": 2
}
